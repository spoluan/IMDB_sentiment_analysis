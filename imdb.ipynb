{
 "cells": [
  {
   "cell_type": "markdown",
   "id": "83b27aa4",
   "metadata": {},
   "source": [
    "# Sevendi Eldrige Rifki Poluan🔥🔥🔥\n",
    "### Descriptions: NLP Fundamental"
   ]
  },
  {
   "cell_type": "code",
   "execution_count": 4,
   "id": "f3ba619b",
   "metadata": {
    "scrolled": true
   },
   "outputs": [
    {
     "name": "stdout",
     "output_type": "stream",
     "text": [
      "Mon Apr 10 05:16:53 2023       \r\n",
      "+---------------------------------------------------------------------------------------+\r\n",
      "| NVIDIA-SMI 530.30.02              Driver Version: 530.30.02    CUDA Version: 12.1     |\r\n",
      "|-----------------------------------------+----------------------+----------------------+\r\n",
      "| GPU  Name                  Persistence-M| Bus-Id        Disp.A | Volatile Uncorr. ECC |\r\n",
      "| Fan  Temp  Perf            Pwr:Usage/Cap|         Memory-Usage | GPU-Util  Compute M. |\r\n",
      "|                                         |                      |               MIG M. |\r\n",
      "|=========================================+======================+======================|\r\n",
      "|   0  NVIDIA GeForce RTX 3090         On | 00000000:65:00.0 Off |                  N/A |\r\n",
      "|  0%   41C    P8               38W / 390W|    236MiB / 24576MiB |      0%      Default |\r\n",
      "|                                         |                      |                  N/A |\r\n",
      "+-----------------------------------------+----------------------+----------------------+\r\n",
      "                                                                                         \r\n",
      "+---------------------------------------------------------------------------------------+\r\n",
      "| Processes:                                                                            |\r\n",
      "|  GPU   GI   CI        PID   Type   Process name                            GPU Memory |\r\n",
      "|        ID   ID                                                             Usage      |\r\n",
      "|=======================================================================================|\r\n",
      "+---------------------------------------------------------------------------------------+\r\n"
     ]
    }
   ],
   "source": [
    "# working environment\n",
    "!nvidia-smi"
   ]
  },
  {
   "cell_type": "markdown",
   "id": "66558db2",
   "metadata": {},
   "source": [
    "## <font color='red'>Import the necessary libraries</font>"
   ]
  },
  {
   "cell_type": "code",
   "execution_count": 186,
   "id": "4ebb9afe",
   "metadata": {},
   "outputs": [],
   "source": [
    "import tensorflow as tf\n",
    "import pandas as pd\n",
    "import numpy as np\n",
    "import os\n",
    "import glob\n",
    "import itertools \n",
    "from sklearn.metrics import confusion_matrix\n",
    "import re\n",
    "import time\n",
    "import json\n",
    "import matplotlib.pyplot as plt"
   ]
  },
  {
   "cell_type": "code",
   "execution_count": 2,
   "id": "acbecfaf",
   "metadata": {},
   "outputs": [
    {
     "data": {
      "text/plain": [
       "'2.12.0'"
      ]
     },
     "execution_count": 2,
     "metadata": {},
     "output_type": "execute_result"
    }
   ],
   "source": [
    "tf.__version__"
   ]
  },
  {
   "cell_type": "markdown",
   "id": "1b6cdc4a",
   "metadata": {},
   "source": [
    "## <font color='red'>To begin, you can download the IMDB dataset which consists of 50,000 movie reviews. The dataset is divided into 25,000 reviews for training and 25,000 reviews for testing. For more detailed information about the dataset, you can refer to the official [page](https://ai.stanford.edu/~amaas/data/sentiment/) of the dataset.</font>"
   ]
  },
  {
   "cell_type": "code",
   "execution_count": 8,
   "id": "508ff365",
   "metadata": {
    "scrolled": false
   },
   "outputs": [
    {
     "name": "stdout",
     "output_type": "stream",
     "text": [
      "--2023-04-08 16:23:57--  https://ai.stanford.edu/~amaas/data/sentiment/aclImdb_v1.tar.gz\n",
      "Resolving ai.stanford.edu (ai.stanford.edu)... 171.64.68.10\n",
      "Connecting to ai.stanford.edu (ai.stanford.edu)|171.64.68.10|:443... connected.\n",
      "HTTP request sent, awaiting response... 200 OK\n",
      "Length: 84125825 (80M) [application/x-gzip]\n",
      "Saving to: ‘aclImdb_v1.tar.gz’\n",
      "\n",
      "aclImdb_v1.tar.gz   100%[===================>]  80.23M  4.68MB/s    in 25s     \n",
      "\n",
      "2023-04-08 16:24:22 (3.27 MB/s) - ‘aclImdb_v1.tar.gz’ saved [84125825/84125825]\n",
      "\n"
     ]
    }
   ],
   "source": [
    "!wget https://ai.stanford.edu/~amaas/data/sentiment/aclImdb_v1.tar.gz"
   ]
  },
  {
   "cell_type": "code",
   "execution_count": 9,
   "id": "c7cc9b2f",
   "metadata": {
    "scrolled": false
   },
   "outputs": [
    {
     "name": "stdout",
     "output_type": "stream",
     "text": [
      "aclImdb_v1.tar.gz\r\n"
     ]
    }
   ],
   "source": [
    "!ls aclImdb_v1.tar.gz"
   ]
  },
  {
   "cell_type": "code",
   "execution_count": 12,
   "id": "1ddcce2f",
   "metadata": {
    "scrolled": true
   },
   "outputs": [],
   "source": [
    "!tar -xf aclImdb_v1.tar.gz"
   ]
  },
  {
   "cell_type": "code",
   "execution_count": 15,
   "id": "6cc20d5f",
   "metadata": {},
   "outputs": [
    {
     "name": "stdout",
     "output_type": "stream",
     "text": [
      "README\timdb.vocab  imdbEr.txt\ttest  train\r\n"
     ]
    }
   ],
   "source": [
    "!ls aclImdb  "
   ]
  },
  {
   "cell_type": "code",
   "execution_count": 47,
   "id": "a2795d07",
   "metadata": {
    "scrolled": true
   },
   "outputs": [
    {
     "name": "stdout",
     "output_type": "stream",
     "text": [
      "labeledBow.feat  pos\tunsupBow.feat  urls_pos.txt\r\n",
      "neg\t\t unsup\turls_neg.txt   urls_unsup.txt\r\n"
     ]
    }
   ],
   "source": [
    "!ls aclImdb/train"
   ]
  },
  {
   "cell_type": "code",
   "execution_count": 22,
   "id": "6bf44ef0",
   "metadata": {
    "scrolled": true
   },
   "outputs": [
    {
     "name": "stdout",
     "output_type": "stream",
     "text": [
      "Story of a man who has unnatural feelings for a pig. Starts out with a opening scene that is a terrific example of absurd comedy. A formal orchestra audience is turned into an insane, violent mob by the crazy chantings of it's singers. Unfortunately it stays absurd the WHOLE time with no general narrative eventually making it just too off putting. Even those from the era should be turned off. The cryptic dialogue would make Shakespeare seem easy to a third grader. On a technical level it's better than you might think with some good cinematography by future great Vilmos Zsigmond. Future stars Sally Kirkland and Frederic Forrest can be seen briefly."
     ]
    }
   ],
   "source": [
    "!cat aclImdb/train/neg/0_3.txt"
   ]
  },
  {
   "cell_type": "markdown",
   "id": "6271b362",
   "metadata": {},
   "source": [
    "## <font color='red'>Let's generate a list of files by collecting all the existing text files in a folder.</font>"
   ]
  },
  {
   "cell_type": "code",
   "execution_count": 2,
   "id": "d9c2e365",
   "metadata": {},
   "outputs": [],
   "source": [
    "train_neg_list = glob.glob(\"aclImdb/train/neg/*.txt\")\n",
    "train_pos_list = glob.glob(\"aclImdb/train/pos/*.txt\")\n",
    "\n",
    "test_neg_list = glob.glob(\"aclImdb/test/neg/*.txt\")\n",
    "test_pos_list = glob.glob(\"aclImdb/test/pos/*.txt\")\n",
    "\n",
    "unsup_list = glob.glob(\"aclImdb/train/unsup/*.txt\")\n",
    " "
   ]
  },
  {
   "cell_type": "markdown",
   "id": "ef36b432",
   "metadata": {},
   "source": [
    "## <font color='red'>Now, I will implement a function to read the dataset from a text file in order to prepare the data for training and testing.</font>\n",
    "\n",
    "        I would like to filter out sentences that contain HTML tags, as I noticed that some sentences still have these tags present.\n",
    "        \n",
    "        Furthermore, I would like to replace all digits with \"@\" in order to standardize the representation of digits in the sentences. \n",
    "        \n",
    "        I will manually load the data from the files and store it in memory, as our current dataset is not very large. However, if the dataset grows significantly in size, this approach may not be feasible due to memory constraints, which could result in performance issues and potentially crash the process."
   ]
  },
  {
   "cell_type": "code",
   "execution_count": 25,
   "id": "dffdb36e",
   "metadata": {},
   "outputs": [],
   "source": [
    "CLASS_LABEL = {'neg': 0, 'pos': 1}"
   ]
  },
  {
   "cell_type": "code",
   "execution_count": 26,
   "id": "6e1e3ef0",
   "metadata": {},
   "outputs": [],
   "source": [
    "def func(text):\n",
    "    text = text.lower()\n",
    "    text = re.sub(r\"<br />\", \"\", text) \n",
    "    text = re.sub(r\"[\\']\", \"\", text)    \n",
    "    text = ' ' . join(re.findall(r\"[a-z0-9\\.\\!\\\"]+\", text))\n",
    "    text = re.sub(r\"[0-9]+\", \" @ \", text)\n",
    "    text = re.sub(r\"[\\.\\!\\\"\\?]+\", \" . \", text)  \n",
    "    text = re.sub(r'\\s+', \" \", text).strip()  \n",
    "    return text"
   ]
  },
  {
   "cell_type": "code",
   "execution_count": 27,
   "id": "75fd4764",
   "metadata": {},
   "outputs": [],
   "source": [
    "def read_files(paths, label):\n",
    "    datasets = {\n",
    "        \"text\": [],\n",
    "        \"target\": []\n",
    "    }\n",
    "    for path in paths:\n",
    "        text = ' ' . join(open(path, 'r').readlines()) \n",
    "        datasets['text'].append(func(text))\n",
    "        datasets['target'].append(CLASS_LABEL[label])\n",
    "    return datasets"
   ]
  },
  {
   "cell_type": "code",
   "execution_count": 28,
   "id": "4a826935",
   "metadata": {},
   "outputs": [
    {
     "name": "stdout",
     "output_type": "stream",
     "text": [
      "Running time: 14.285688663017936 seconds\n"
     ]
    }
   ],
   "source": [
    "start_time = time.perf_counter()\n",
    "neg_train_text = read_files(train_neg_list, 'neg')\n",
    "pos_train_text = read_files(train_pos_list, 'pos')\n",
    "\n",
    "neg_test_text = read_files(test_neg_list, 'neg')\n",
    "pos_test_text = read_files(test_pos_list, 'pos')\n",
    "\n",
    "unsup_text = read_files(unsup_list, 'pos')\n",
    "\n",
    "end_time = time.perf_counter()\n",
    "print(\"Running time:\", end_time - start_time, \"seconds\")"
   ]
  },
  {
   "cell_type": "code",
   "execution_count": 29,
   "id": "df490bf8",
   "metadata": {
    "scrolled": false
   },
   "outputs": [
    {
     "data": {
      "text/html": [
       "<div>\n",
       "<style scoped>\n",
       "    .dataframe tbody tr th:only-of-type {\n",
       "        vertical-align: middle;\n",
       "    }\n",
       "\n",
       "    .dataframe tbody tr th {\n",
       "        vertical-align: top;\n",
       "    }\n",
       "\n",
       "    .dataframe thead th {\n",
       "        text-align: right;\n",
       "    }\n",
       "</style>\n",
       "<table border=\"1\" class=\"dataframe\">\n",
       "  <thead>\n",
       "    <tr style=\"text-align: right;\">\n",
       "      <th></th>\n",
       "      <th>text</th>\n",
       "      <th>target</th>\n",
       "    </tr>\n",
       "  </thead>\n",
       "  <tbody>\n",
       "    <tr>\n",
       "      <th>0</th>\n",
       "      <td>i sat down to watch . midnight cowboy . thinki...</td>\n",
       "      <td>1</td>\n",
       "    </tr>\n",
       "    <tr>\n",
       "      <th>1</th>\n",
       "      <td>i have to say that this miniseries was the bes...</td>\n",
       "      <td>1</td>\n",
       "    </tr>\n",
       "    <tr>\n",
       "      <th>2</th>\n",
       "      <td>this movie is a riot . i cannot remember the l...</td>\n",
       "      <td>1</td>\n",
       "    </tr>\n",
       "    <tr>\n",
       "      <th>3</th>\n",
       "      <td>one of the ten best comedies ever this seems a...</td>\n",
       "      <td>1</td>\n",
       "    </tr>\n",
       "    <tr>\n",
       "      <th>4</th>\n",
       "      <td>i had never heard of leos carax until his merd...</td>\n",
       "      <td>1</td>\n",
       "    </tr>\n",
       "  </tbody>\n",
       "</table>\n",
       "</div>"
      ],
      "text/plain": [
       "                                                text  target\n",
       "0  i sat down to watch . midnight cowboy . thinki...       1\n",
       "1  i have to say that this miniseries was the bes...       1\n",
       "2  this movie is a riot . i cannot remember the l...       1\n",
       "3  one of the ten best comedies ever this seems a...       1\n",
       "4  i had never heard of leos carax until his merd...       1"
      ]
     },
     "execution_count": 29,
     "metadata": {},
     "output_type": "execute_result"
    }
   ],
   "source": [
    "pd.DataFrame(pos_train_text).head()"
   ]
  },
  {
   "cell_type": "code",
   "execution_count": 30,
   "id": "3a6f5843",
   "metadata": {},
   "outputs": [
    {
     "data": {
      "text/plain": [
       "((12500, 2), (12500, 2))"
      ]
     },
     "execution_count": 30,
     "metadata": {},
     "output_type": "execute_result"
    }
   ],
   "source": [
    "pd.DataFrame(pos_train_text).shape, pd.DataFrame(pos_train_text).shape"
   ]
  },
  {
   "cell_type": "code",
   "execution_count": 54,
   "id": "2be37988",
   "metadata": {},
   "outputs": [],
   "source": [
    "train_text = pd.concat([pd.DataFrame(pos_train_text), pd.DataFrame(neg_train_text)], ignore_index=True).sample(frac=1.0, random_state=42)\n",
    "test_text = pd.concat([pd.DataFrame(pos_test_text), pd.DataFrame(neg_test_text)], ignore_index=True).sample(frac=1.0, random_state=42)"
   ]
  },
  {
   "cell_type": "code",
   "execution_count": 32,
   "id": "6766db8c",
   "metadata": {},
   "outputs": [
    {
     "data": {
      "text/plain": [
       "(25000, 2)"
      ]
     },
     "execution_count": 32,
     "metadata": {},
     "output_type": "execute_result"
    }
   ],
   "source": [
    "train_text.shape"
   ]
  },
  {
   "cell_type": "code",
   "execution_count": 33,
   "id": "5f7e5a92",
   "metadata": {},
   "outputs": [
    {
     "data": {
      "text/html": [
       "<div>\n",
       "<style scoped>\n",
       "    .dataframe tbody tr th:only-of-type {\n",
       "        vertical-align: middle;\n",
       "    }\n",
       "\n",
       "    .dataframe tbody tr th {\n",
       "        vertical-align: top;\n",
       "    }\n",
       "\n",
       "    .dataframe thead th {\n",
       "        text-align: right;\n",
       "    }\n",
       "</style>\n",
       "<table border=\"1\" class=\"dataframe\">\n",
       "  <thead>\n",
       "    <tr style=\"text-align: right;\">\n",
       "      <th></th>\n",
       "      <th>text</th>\n",
       "      <th>target</th>\n",
       "    </tr>\n",
       "  </thead>\n",
       "  <tbody>\n",
       "    <tr>\n",
       "      <th>6868</th>\n",
       "      <td>one of the last great musicals of the @ s . i ...</td>\n",
       "      <td>1</td>\n",
       "    </tr>\n",
       "    <tr>\n",
       "      <th>24016</th>\n",
       "      <td>we had to go to an appointment so we turned on...</td>\n",
       "      <td>0</td>\n",
       "    </tr>\n",
       "    <tr>\n",
       "      <th>9668</th>\n",
       "      <td>while the title . before the devil knows youre...</td>\n",
       "      <td>1</td>\n",
       "    </tr>\n",
       "    <tr>\n",
       "      <th>13640</th>\n",
       "      <td>in my lit . class weve just finished the book ...</td>\n",
       "      <td>0</td>\n",
       "    </tr>\n",
       "    <tr>\n",
       "      <th>14018</th>\n",
       "      <td>i really enjoyed the first half hour of this m...</td>\n",
       "      <td>0</td>\n",
       "    </tr>\n",
       "  </tbody>\n",
       "</table>\n",
       "</div>"
      ],
      "text/plain": [
       "                                                    text  target\n",
       "6868   one of the last great musicals of the @ s . i ...       1\n",
       "24016  we had to go to an appointment so we turned on...       0\n",
       "9668   while the title . before the devil knows youre...       1\n",
       "13640  in my lit . class weve just finished the book ...       0\n",
       "14018  i really enjoyed the first half hour of this m...       0"
      ]
     },
     "execution_count": 33,
     "metadata": {},
     "output_type": "execute_result"
    }
   ],
   "source": [
    "train_text.head()"
   ]
  },
  {
   "cell_type": "code",
   "execution_count": 36,
   "id": "2c216278",
   "metadata": {},
   "outputs": [],
   "source": [
    "train_ds = tf.data.Dataset.from_tensor_slices((train_text.text, train_text.target))\n",
    "test_ds = tf.data.Dataset.from_tensor_slices((test_text.text, test_text.target))"
   ]
  },
  {
   "cell_type": "markdown",
   "id": "ba828952",
   "metadata": {},
   "source": [
    "## <font color='red'>I will extract the sequence from the sentence and choose the one that appears most frequently in the training set. Specifically, I will select the sequence that occurs in the sentence with a frequency of 98 percent.</font>"
   ]
  },
  {
   "cell_type": "code",
   "execution_count": 37,
   "id": "87b33cd4",
   "metadata": {},
   "outputs": [
    {
     "name": "stdout",
     "output_type": "stream",
     "text": [
      "Finding sequence ...\n",
      "Execution time: 0.22800252499291673 seconds\n"
     ]
    }
   ],
   "source": [
    "print(\"Finding sequence ...\")\n",
    "start_time = time.perf_counter()\n",
    "SEQS = [len(x.split(\" \")) for x in train_text.text] \n",
    "end_time = time.perf_counter()\n",
    "print(\"Execution time:\", end_time - start_time, 'seconds') "
   ]
  },
  {
   "cell_type": "code",
   "execution_count": 38,
   "id": "bb1fa223",
   "metadata": {},
   "outputs": [
    {
     "data": {
      "text/plain": [
       "830"
      ]
     },
     "execution_count": 38,
     "metadata": {},
     "output_type": "execute_result"
    }
   ],
   "source": [
    "SEQ = int(np.percentile(SEQS, 98)) # 830\n",
    "SEQ"
   ]
  },
  {
   "cell_type": "code",
   "execution_count": 39,
   "id": "5d9f0789",
   "metadata": {},
   "outputs": [],
   "source": [
    "SEQ = 830"
   ]
  },
  {
   "cell_type": "markdown",
   "id": "ac878acb",
   "metadata": {},
   "source": [
    "## <font color='red'>Constructing the text vectorization for data preprocessing.</font>\n",
    "\n",
    "    To avoid the time-consuming process of reloading and re-adapting the text vectorization, I will save it for future use."
   ]
  },
  {
   "cell_type": "code",
   "execution_count": 62,
   "id": "ca3c0059",
   "metadata": {},
   "outputs": [
    {
     "name": "stdout",
     "output_type": "stream",
     "text": [
      "Finding token length ...\n",
      "Execution time: 0.6449048119829968 seconds\n"
     ]
    }
   ],
   "source": [
    "print(\"Finding token length ...\")\n",
    "start_time = time.perf_counter()\n",
    "MAX_TOKEN = len(set(' ' . join(list(train_text.text)) . split(\" \")))\n",
    "end_time = time.perf_counter()\n",
    "print(\"Execution time:\", end_time - start_time, 'seconds') "
   ]
  },
  {
   "cell_type": "code",
   "execution_count": 63,
   "id": "09f92785",
   "metadata": {},
   "outputs": [],
   "source": [
    "MAX_TOKEN = 78536"
   ]
  },
  {
   "cell_type": "code",
   "execution_count": 64,
   "id": "30e9e5f9",
   "metadata": {},
   "outputs": [],
   "source": [
    "vectorize = tf.keras.layers.TextVectorization(max_tokens=MAX_TOKEN,\n",
    "                                              output_mode=\"int\",\n",
    "                                              output_sequence_length=SEQ,\n",
    "                                              split=\"whitespace\", \n",
    "                                              input_shape=(None, ))"
   ]
  },
  {
   "cell_type": "code",
   "execution_count": 65,
   "id": "d8e88335",
   "metadata": {
    "scrolled": true
   },
   "outputs": [
    {
     "name": "stdout",
     "output_type": "stream",
     "text": [
      "Adapting ...\n",
      "Execution time: 5.266078312997706 seconds\n"
     ]
    }
   ],
   "source": [
    "print(\"Adapting ...\")\n",
    "start_time = time.perf_counter()\n",
    "vectorize.adapt(train_text.text, batch_size=32)\n",
    "end_time = time.perf_counter()\n",
    "print(\"Execution time:\", end_time - start_time, 'seconds') # 5.266078312997706 seconds"
   ]
  },
  {
   "cell_type": "code",
   "execution_count": 66,
   "id": "2596efe4",
   "metadata": {
    "scrolled": true
   },
   "outputs": [
    {
     "data": {
      "text/plain": [
       "(['', '[UNK]', 'the', 'and', 'a', 'of', 'to', 'is', 'in', 'it'],\n",
       " ['aachen',\n",
       "  'aaawwwwnnn',\n",
       "  'aaaugh',\n",
       "  'aaah',\n",
       "  'aaaarrgh',\n",
       "  'aaaand',\n",
       "  'aaaahhhhhhh',\n",
       "  'aaaaatch',\n",
       "  'aaaaah',\n",
       "  'aaaaaaah'])"
      ]
     },
     "execution_count": 66,
     "metadata": {},
     "output_type": "execute_result"
    }
   ],
   "source": [
    "vocabulary = vectorize.get_vocabulary()\n",
    "vocabulary[:10], vocabulary[-10:]"
   ]
  },
  {
   "cell_type": "code",
   "execution_count": 67,
   "id": "5239ce29",
   "metadata": {},
   "outputs": [],
   "source": [
    "MAX_TOKEN = len(vocabulary)"
   ]
  },
  {
   "cell_type": "code",
   "execution_count": 68,
   "id": "d3acbbf7",
   "metadata": {},
   "outputs": [],
   "source": [
    "with open('vocabulary.txt', 'w') as f:\n",
    "    for word in vocabulary:\n",
    "        f.write(word + '\\n')"
   ]
  },
  {
   "cell_type": "code",
   "execution_count": 69,
   "id": "2d13c460",
   "metadata": {},
   "outputs": [
    {
     "data": {
      "text/plain": [
       "{'name': 'text_vectorization',\n",
       " 'trainable': True,\n",
       " 'dtype': 'string',\n",
       " 'batch_input_shape': (None, None),\n",
       " 'max_tokens': 78536,\n",
       " 'standardize': 'lower_and_strip_punctuation',\n",
       " 'split': 'whitespace',\n",
       " 'ngrams': None,\n",
       " 'output_mode': 'int',\n",
       " 'output_sequence_length': 830,\n",
       " 'pad_to_max_tokens': False,\n",
       " 'sparse': False,\n",
       " 'ragged': False,\n",
       " 'vocabulary': None,\n",
       " 'idf_weights': None,\n",
       " 'encoding': 'utf-8',\n",
       " 'vocabulary_size': 78536}"
      ]
     },
     "execution_count": 69,
     "metadata": {},
     "output_type": "execute_result"
    }
   ],
   "source": [
    "config = vectorize.get_config()\n",
    "config"
   ]
  },
  {
   "cell_type": "code",
   "execution_count": 70,
   "id": "0dafb93e",
   "metadata": {},
   "outputs": [],
   "source": [
    "with open('config.json', 'w') as f:\n",
    "    json.dump(config, f)"
   ]
  },
  {
   "cell_type": "code",
   "execution_count": 71,
   "id": "492e463e",
   "metadata": {},
   "outputs": [
    {
     "name": "stdout",
     "output_type": "stream",
     "text": [
      "README.md  aclImdb_v1.tar.gz  imdb.ipynb  imdb.py\r\n",
      "aclImdb    config.json\t      imdb.log\t  vocabulary.txt\r\n"
     ]
    }
   ],
   "source": [
    "!ls"
   ]
  },
  {
   "cell_type": "markdown",
   "id": "0a3b230b",
   "metadata": {},
   "source": [
    "## <font color='red'>Now, I will load the configuration and vocabulary, and assign them to a new TextVectorization object.</font>"
   ]
  },
  {
   "cell_type": "code",
   "execution_count": 97,
   "id": "c5215cbe",
   "metadata": {},
   "outputs": [],
   "source": [
    "n_vocabulary = None\n",
    "with open('vocabulary.txt', 'r') as f:\n",
    "    n_vocabulary = [line.strip() for line in f.readlines()] "
   ]
  },
  {
   "cell_type": "code",
   "execution_count": 98,
   "id": "5d35fd53",
   "metadata": {},
   "outputs": [
    {
     "data": {
      "text/plain": [
       "['', '[UNK]', 'the', 'and', 'a', 'of', 'to', 'is', 'in', 'it']"
      ]
     },
     "execution_count": 98,
     "metadata": {},
     "output_type": "execute_result"
    }
   ],
   "source": [
    "n_vocabulary[:10]"
   ]
  },
  {
   "cell_type": "code",
   "execution_count": 99,
   "id": "e08f7da2",
   "metadata": {},
   "outputs": [],
   "source": [
    "n_config = None\n",
    "with open('config.json', 'r') as f:\n",
    "    n_config = json.load(f)"
   ]
  },
  {
   "cell_type": "code",
   "execution_count": 100,
   "id": "9d3579d9",
   "metadata": {},
   "outputs": [
    {
     "data": {
      "text/plain": [
       "{'name': 'text_vectorization',\n",
       " 'trainable': True,\n",
       " 'dtype': 'string',\n",
       " 'batch_input_shape': [None, None],\n",
       " 'max_tokens': 78536,\n",
       " 'standardize': 'lower_and_strip_punctuation',\n",
       " 'split': 'whitespace',\n",
       " 'ngrams': None,\n",
       " 'output_mode': 'int',\n",
       " 'output_sequence_length': 830,\n",
       " 'pad_to_max_tokens': False,\n",
       " 'sparse': False,\n",
       " 'ragged': False,\n",
       " 'vocabulary': None,\n",
       " 'idf_weights': None,\n",
       " 'encoding': 'utf-8',\n",
       " 'vocabulary_size': 78536}"
      ]
     },
     "execution_count": 100,
     "metadata": {},
     "output_type": "execute_result"
    }
   ],
   "source": [
    "n_config"
   ]
  },
  {
   "cell_type": "code",
   "execution_count": 101,
   "id": "92aa5df4",
   "metadata": {},
   "outputs": [],
   "source": [
    "n_vectorize = tf.keras.layers.TextVectorization.from_config(n_config)"
   ]
  },
  {
   "cell_type": "code",
   "execution_count": 102,
   "id": "b8f60f6d",
   "metadata": {},
   "outputs": [],
   "source": [
    "n_vectorize.set_vocabulary(n_vocabulary)"
   ]
  },
  {
   "cell_type": "code",
   "execution_count": 230,
   "id": "ad392f5f",
   "metadata": {
    "scrolled": false
   },
   "outputs": [
    {
     "data": {
      "text/plain": [
       "<tf.Tensor: shape=(1, 830), dtype=int64, numpy=\n",
       "array([[   10,  1791,   178,     6,   103,  2709,  2368,   529,     9,\n",
       "           59,    27,   157,  3824,   121,   121,    17,    47,     5,\n",
       "           58,   507,    96,   212,    37,     2,   121,     8,     2,\n",
       "          168,  5540,    14,  2709,  2368,  4591,  2631,   376,  1916,\n",
       "         3768,     8, 10721,  1509,   517,    18,    46,    23,   107,\n",
       "          107,  3824,   519,    14,    70,    12,    25,  6142,   558,\n",
       "        18457,  2965,  1364,    15,   108,  8555,   466,     4,  4247,\n",
       "         2145,     5,    95,    89,  1062,    53,    14,    70,   631,\n",
       "           10,   425,     5,   230,    11,    93,    42,   769,  6526,\n",
       "          256,     9,    97,     7,    28,     5,    58,  2561,    36,\n",
       "           10,   155,   531,    73,    37,  2709,  2368,    18,   187,\n",
       "            4,   172,   140,    29,     4,  1282,    61,    70,    90,\n",
       "            3,    70,   574,    16,    47,     5,     2,   115,   351,\n",
       "            5,    30,    55,  6395,  2832,    14, 15070,  5619,  8990,\n",
       "          402,    28,     5,    24,   115,    29,     4,   223,   159,\n",
       "           31,   206,    26,   924,    38,     4,  1063,   105,    51,\n",
       "           26,  2446,   275,    85,     5,     2, 15537,  6269,  2003,\n",
       "           18,  2832,     7,  1083,  1073,   314,     5,     2,    96,\n",
       "          347,   427,   937,    24,  7841,    14,    26,    13,    41,\n",
       "         1560,     4,   669,   315,     8,   355,  1946,    87,     7,\n",
       "            2,   327,  5109,  2629,  4171,    14,   899,  2973,     2,\n",
       "         2368,    35,  4081,  2362,     6,     2,   191,  7338,     8,\n",
       "            2,  1873,     5,  1560,     4,   900,  4051,   510,    24,\n",
       "         2305,   764,  1510,    87,     8,  1104,     3,    26, 15458,\n",
       "           53,    16,     4,  6484, 10196,  1721,   768,  5619,    35,\n",
       "         1563,     6,   408, 11006,  2985,    15,     4,   803, 11228,\n",
       "            5, 10212,     2,    17,     7,   176,   193,    31,   104,\n",
       "          624,    18,   112,    63,   184,    52,   193,    47,    96,\n",
       "           68,  2326,     6,  2366,   257,    47,     5,     2,    96,\n",
       "           12,    66,    90,     8,     2,   121,    85,    14,    29,\n",
       "           75,   297,     8,   769,  7822,  7479, 18090,     2,   663,\n",
       "           66,     2,   370,     5,     2,    92,     8,     2,   121,\n",
       "            3,  2012,    34,   187,     4,   223,    97, 13043,    16,\n",
       "           65,   811,   166,    20,    97,   193, 17060,   101,   136,\n",
       "          517,    12,   701,   666,    41,    42,     2,    62,   133,\n",
       "           10,   415,    13,     4,   223,    97,   193,     3,  1724,\n",
       "           13,     2,  1384,  1055,     9,   162,     2,    19,   301,\n",
       "          569,  5781,   722,     6,     2,  1384, 42509,     8,   769,\n",
       "         6526,     3,    63, 16244,    29,  2946,    85,    29,    21,\n",
       "          881,    82,    71,    12,  2709,  2368,     7,    33,   216,\n",
       "         3546,  1253,   424,    10,    13,  3558,   767,     9,   124,\n",
       "           25,    29,  1511,  2129,    23,     4,   223,  5117,     3,\n",
       "          112,   337,    14,    70,    14,    34,    98,    25,    75,\n",
       "           15,  1810,     3,    47,     5,     2,   136,    23,     4,\n",
       "          223,  7793,   138,    14,     2,   982,    17,   745,   709,\n",
       "           18,    44,    22,    68,  2869,    29,  1494,  2709,  2368,\n",
       "            7,     4,   364,    84,  1253,   424,    33, 12463,  5097,\n",
       "            5,   109,    20,     2,  1916,     8,     2,   518,   121,\n",
       "          399,   121,    29,     4,  2248,    17,   411,     3,    32,\n",
       "         1708,  1535,   235,   301,     4,   223,  5781,     3,  1164,\n",
       "           20,     2,  3664,  1945,     5,   109,     7,   521,   517,\n",
       "           18,    10,   129,   114,     9,     3,   566,     2,   569,\n",
       "         1282,   273,    77,   781,    16,    69,    15,     4,   193,\n",
       "          193,    55,   538,  1168,    28,     5,     2,   115,    96,\n",
       "            5,     2,   121,     9,    13,  2510,   619,     8,   518,\n",
       "           18,   446,   129, 18073,     9,    14,     4,   121,    19,\n",
       "            9,    79,  1173,     2,   115,   424,   727,   108,     2,\n",
       "           83,     3,    62,  1555,  1134,  1253,   424,     6,    78,\n",
       "           36,     9,    13,   296,   733,  1134,  1248,    20,  1257,\n",
       "            0,     0,     0,     0,     0,     0,     0,     0,     0,\n",
       "            0,     0,     0,     0,     0,     0,     0,     0,     0,\n",
       "            0,     0,     0,     0,     0,     0,     0,     0,     0,\n",
       "            0,     0,     0,     0,     0,     0,     0,     0,     0,\n",
       "            0,     0,     0,     0,     0,     0,     0,     0,     0,\n",
       "            0,     0,     0,     0,     0,     0,     0,     0,     0,\n",
       "            0,     0,     0,     0,     0,     0,     0,     0,     0,\n",
       "            0,     0,     0,     0,     0,     0,     0,     0,     0,\n",
       "            0,     0,     0,     0,     0,     0,     0,     0,     0,\n",
       "            0,     0,     0,     0,     0,     0,     0,     0,     0,\n",
       "            0,     0,     0,     0,     0,     0,     0,     0,     0,\n",
       "            0,     0,     0,     0,     0,     0,     0,     0,     0,\n",
       "            0,     0,     0,     0,     0,     0,     0,     0,     0,\n",
       "            0,     0,     0,     0,     0,     0,     0,     0,     0,\n",
       "            0,     0,     0,     0,     0,     0,     0,     0,     0,\n",
       "            0,     0,     0,     0,     0,     0,     0,     0,     0,\n",
       "            0,     0,     0,     0,     0,     0,     0,     0,     0,\n",
       "            0,     0,     0,     0,     0,     0,     0,     0,     0,\n",
       "            0,     0,     0,     0,     0,     0,     0,     0,     0,\n",
       "            0,     0,     0,     0,     0,     0,     0,     0,     0,\n",
       "            0,     0,     0,     0,     0,     0,     0,     0,     0,\n",
       "            0,     0,     0,     0,     0,     0,     0,     0,     0,\n",
       "            0,     0,     0,     0,     0,     0,     0,     0,     0,\n",
       "            0,     0,     0,     0,     0,     0,     0,     0,     0,\n",
       "            0,     0,     0,     0,     0,     0,     0,     0,     0,\n",
       "            0,     0,     0,     0,     0,     0,     0,     0,     0,\n",
       "            0,     0,     0,     0,     0,     0,     0,     0,     0,\n",
       "            0,     0,     0,     0,     0,     0,     0,     0,     0,\n",
       "            0,     0,     0,     0,     0,     0,     0,     0,     0,\n",
       "            0,     0,     0,     0,     0,     0,     0,     0,     0,\n",
       "            0,     0,     0,     0,     0,     0,     0,     0,     0,\n",
       "            0,     0,     0,     0,     0,     0,     0,     0,     0,\n",
       "            0,     0,     0,     0,     0,     0,     0,     0,     0,\n",
       "            0,     0]])>"
      ]
     },
     "execution_count": 230,
     "metadata": {},
     "output_type": "execute_result"
    }
   ],
   "source": [
    "n_vectorize([train_text.text[0]])"
   ]
  },
  {
   "cell_type": "markdown",
   "id": "c552fa6f",
   "metadata": {},
   "source": [
    "## <font color='red'>Now, let's create our embedding.</font>"
   ]
  },
  {
   "cell_type": "code",
   "execution_count": 104,
   "id": "d0991a60",
   "metadata": {},
   "outputs": [],
   "source": [
    "embedding = tf.keras.layers.Embedding(input_dim=MAX_TOKEN,\n",
    "                                      output_dim=256,\n",
    "                                      input_length=SEQ)"
   ]
  },
  {
   "cell_type": "code",
   "execution_count": 105,
   "id": "e3850310",
   "metadata": {
    "scrolled": false
   },
   "outputs": [
    {
     "data": {
      "text/plain": [
       "<tf.Tensor: shape=(1, 830, 256), dtype=float16, numpy=\n",
       "array([[[-0.010826,  0.03293 ,  0.01071 , ..., -0.01973 ,  0.03506 ,\n",
       "          0.0255  ],\n",
       "        [ 0.03134 ,  0.04446 ,  0.0404  , ...,  0.03656 , -0.0316  ,\n",
       "          0.04837 ],\n",
       "        [-0.01451 ,  0.0232  , -0.01034 , ...,  0.0357  , -0.0432  ,\n",
       "         -0.02911 ],\n",
       "        ...,\n",
       "        [ 0.01808 ,  0.015175, -0.01266 , ..., -0.01752 ,  0.01381 ,\n",
       "         -0.04404 ],\n",
       "        [ 0.01808 ,  0.015175, -0.01266 , ..., -0.01752 ,  0.01381 ,\n",
       "         -0.04404 ],\n",
       "        [ 0.01808 ,  0.015175, -0.01266 , ..., -0.01752 ,  0.01381 ,\n",
       "         -0.04404 ]]], dtype=float16)>"
      ]
     },
     "execution_count": 105,
     "metadata": {},
     "output_type": "execute_result"
    }
   ],
   "source": [
    "embedding(n_vectorize([train_text.text[0]]))"
   ]
  },
  {
   "cell_type": "markdown",
   "id": "cc6c390f",
   "metadata": {},
   "source": [
    "## <font color='red'>Let us proceed with the construction of our model.</font>\n",
    "\n",
    "    In this implementation, an LSTM model with bidirectional layers will be used. This configuration enables the model to capture contextual information from both the past and the future of the input data. This can be particularly beneficial in tasks where the meaning of the current input is influenced by both the preceding and succeeding context."
   ]
  },
  {
   "cell_type": "code",
   "execution_count": 209,
   "id": "49dbae06",
   "metadata": {},
   "outputs": [],
   "source": [
    "def create_model():\n",
    "    tf.keras.mixed_precision.set_global_policy(\"mixed_float16\")\n",
    "    \n",
    "    inputs = tf.keras.layers.Input(shape=(1,), dtype=tf.string)\n",
    "    x = n_vectorize(inputs)\n",
    "    x = embedding(x) \n",
    "    x = tf.keras.layers.Conv1D(256, 3, activation=\"relu\")(x)\n",
    "    x = tf.keras.layers.Conv1D(128, 3, padding=\"valid\", activation=\"relu\")(x)\n",
    "    x = tf.keras.layers.GlobalAveragePooling1D()(x)\n",
    "    x = tf.keras.layers.Dense(64, activation=\"relu\", kernel_regularizer='l2')(x)\n",
    "    x = tf.keras.layers.Dense(1)(x)\n",
    "    outputs = tf.keras.layers.Activation(activation=\"sigmoid\", dtype=tf.float32)(x)\n",
    "    model = tf.keras.Model(inputs, outputs)\n",
    "    model.compile(loss=\"binary_crossentropy\",\n",
    "                  optimizer=tf.keras.optimizers.Adam(),\n",
    "                  metrics=[\"accuracy\"])\n",
    "    return model"
   ]
  },
  {
   "cell_type": "code",
   "execution_count": 210,
   "id": "5337ff26",
   "metadata": {},
   "outputs": [
    {
     "name": "stdout",
     "output_type": "stream",
     "text": [
      "Model: \"model_13\"\n",
      "_________________________________________________________________\n",
      " Layer (type)                Output Shape              Param #   \n",
      "=================================================================\n",
      " input_17 (InputLayer)       [(None, 1)]               0         \n",
      "                                                                 \n",
      " text_vectorization (TextVec  (None, 830)              0         \n",
      " torization)                                                     \n",
      "                                                                 \n",
      " embedding_1 (Embedding)     (None, 830, 256)          20105216  \n",
      "                                                                 \n",
      " conv1d_29 (Conv1D)          (None, 828, 256)          196864    \n",
      "                                                                 \n",
      " conv1d_30 (Conv1D)          (None, 826, 128)          98432     \n",
      "                                                                 \n",
      " global_average_pooling1d_10  (None, 128)              0         \n",
      "  (GlobalAveragePooling1D)                                       \n",
      "                                                                 \n",
      " dense_26 (Dense)            (None, 64)                8256      \n",
      "                                                                 \n",
      " dense_27 (Dense)            (None, 1)                 65        \n",
      "                                                                 \n",
      " activation_13 (Activation)  (None, 1)                 0         \n",
      "                                                                 \n",
      "=================================================================\n",
      "Total params: 20,408,833\n",
      "Trainable params: 20,408,833\n",
      "Non-trainable params: 0\n",
      "_________________________________________________________________\n"
     ]
    }
   ],
   "source": [
    "model = create_model()\n",
    "model.summary()"
   ]
  },
  {
   "cell_type": "markdown",
   "id": "b0ab148a",
   "metadata": {},
   "source": [
    "## <font color='red'>We will define callbacks for updating the learning rate, implementing early stopping if the model does not show improvement, and saving the model whenever there is a decrease in the training loss.</font>"
   ]
  },
  {
   "cell_type": "code",
   "execution_count": 211,
   "id": "f7dd21ae",
   "metadata": {},
   "outputs": [],
   "source": [
    "class CustomLearningRateScheduler(tf.keras.callbacks.Callback):\n",
    "    def __init__(self, factor, patience, min_lr):\n",
    "        super(CustomLearningRateScheduler, self).__init__()\n",
    "        self.factor = factor\n",
    "        self.patience = patience\n",
    "        self.min_lr = min_lr\n",
    "        self.wait = 0\n",
    "        self.best_val_loss = float('inf')\n",
    "\n",
    "    def on_epoch_end(self, epoch, logs=None):\n",
    "        \n",
    "        # print('\\rlr_logs: ', logs, '\\r')\n",
    "        print(\"\\rwait: \", self.wait, \"\\r\")\n",
    "        print(\"\\rCurrent lr:\", tf.keras.backend.get_value(self.model.optimizer.lr), \"\\r\")\n",
    "        \n",
    "        current_val_loss = logs['val_loss'] \n",
    "        \n",
    "        if current_val_loss < self.best_val_loss:\n",
    "            self.best_val_loss = current_val_loss\n",
    "            self.wait = 0\n",
    "        else:\n",
    "            self.wait += 1\n",
    "            print(\"\\rself.wait >= self.patience:\", self.wait >= self.patience, \"\\r\")\n",
    "            if self.wait >= self.patience:\n",
    "                old_lr = tf.keras.backend.get_value(self.model.optimizer.lr)\n",
    "                new_lr = old_lr * self.factor\n",
    "                \n",
    "                print(\"\\rnew_lr >= self.min_lr:\", new_lr >= self.min_lr, \"\\r\")\n",
    "                if new_lr >= self.min_lr:\n",
    "                    print(f'\\rEpoch {epoch+1}: Learning rate reduced to {new_lr} \\r')\n",
    "                    tf.keras.backend.set_value(self.model.optimizer.lr, new_lr) \n",
    "                else:\n",
    "                    print(f'\\rEpoch {epoch+1}: Minimum learning rate reached\\r')\n",
    "                self.wait = 0\n",
    "                \n",
    "lr_callback = CustomLearningRateScheduler(factor=0.1, \n",
    "                                          patience=5,\n",
    "                                          min_lr=1e-7) "
   ]
  },
  {
   "cell_type": "code",
   "execution_count": 212,
   "id": "bb426610",
   "metadata": {},
   "outputs": [],
   "source": [
    "es_callback = tf.keras.callbacks.EarlyStopping(monitor=\"val_loss\",\n",
    "                                               patience=4, # Number of epochs with no improvement after which training will be stopped.\n",
    "                                               start_from_epoch=1,\n",
    "                                               mode=\"min\") # training will stop when the quantity monitored has stopped decreasing"
   ]
  },
  {
   "cell_type": "code",
   "execution_count": 213,
   "id": "181aa254",
   "metadata": {},
   "outputs": [],
   "source": [
    "class ModelCheckpointCustom(tf.keras.callbacks.Callback):\n",
    "    \n",
    "    def __init__(self, model_path, save_best_only=False):\n",
    "        super(ModelCheckpointCustom, self).__init__()\n",
    "         \n",
    "        self.model_path = model_path\n",
    "        self.save_best_only = save_best_only\n",
    "        self.best_val_loss = float('inf') \n",
    "\n",
    "    def on_epoch_end(self, epoch, logs=None):\n",
    "        \n",
    "        print('\\rlogs: ', logs, '\\r')\n",
    "        \n",
    "        current_val_loss = 0 if logs['val_loss'] is None else logs['val_loss']\n",
    "        \n",
    "        print('\\rcurrent_val_loss: ', current_val_loss, '\\r')\n",
    "        print('\\rsave_best_only: ', self.save_best_only, '\\r')\n",
    "        print('\\rbest_val_loss: ', self.best_val_loss, '\\r')\n",
    "        print('\\rcurrent_val_loss < best_val_loss: ', current_val_loss < self.best_val_loss, '\\r') \n",
    "        \n",
    "        if self.save_best_only and current_val_loss < self.best_val_loss:\n",
    "            print('\\rSaving weights at (save_best_only=True): ', self.model_path, '\\r')\n",
    "            self.best_val_loss = current_val_loss \n",
    "            self.model.save_weights(self.model_path)\n",
    "            print(\"\\rModel has been saved!\")\n",
    "        else:\n",
    "            print('\\rSaving weights at (save_best_only=False): ', self.model_path, '\\r')\n",
    "            self.model.save_weights(self.model_path) \n",
    "            print(\"\\rModel has been saved!\")\n",
    "\n",
    "save_callbacks = ModelCheckpointCustom(model_path='checkpoint/save-model/', save_best_only=True)"
   ]
  },
  {
   "cell_type": "markdown",
   "id": "7433dcee",
   "metadata": {},
   "source": [
    "## <font color='red'>Now, it is time to commence the training process of our model.</font>"
   ]
  },
  {
   "cell_type": "code",
   "execution_count": 214,
   "id": "75ae3b89",
   "metadata": {},
   "outputs": [],
   "source": [
    "BATCH_SIZE = 100\n",
    "\n",
    "train = train_ds.batch(BATCH_SIZE).prefetch(tf.data.AUTOTUNE).cache()\n",
    "test = test_ds.batch(BATCH_SIZE).prefetch(tf.data.AUTOTUNE)"
   ]
  },
  {
   "cell_type": "code",
   "execution_count": 215,
   "id": "b651a82a",
   "metadata": {
    "scrolled": false
   },
   "outputs": [
    {
     "name": "stdout",
     "output_type": "stream",
     "text": [
      "Epoch 1/100\n"
     ]
    },
    {
     "name": "stderr",
     "output_type": "stream",
     "text": [
      "2023-04-10 13:32:21.429725: I tensorflow/core/common_runtime/executor.cc:1197] [/device:CPU:0] (DEBUG INFO) Executor start aborting (this does not indicate an error and you can ignore this message): INVALID_ARGUMENT: You must feed a value for placeholder tensor 'Placeholder/_1' with dtype int64 and shape [25000]\n",
      "\t [[{{node Placeholder/_1}}]]\n"
     ]
    },
    {
     "name": "stdout",
     "output_type": "stream",
     "text": [
      "250/250 [==============================] - ETA: 0s - loss: 0.2907 - accuracy: 0.9799"
     ]
    },
    {
     "name": "stderr",
     "output_type": "stream",
     "text": [
      "2023-04-10 13:32:56.254814: I tensorflow/core/common_runtime/executor.cc:1197] [/device:CPU:0] (DEBUG INFO) Executor start aborting (this does not indicate an error and you can ignore this message): INVALID_ARGUMENT: You must feed a value for placeholder tensor 'Placeholder/_1' with dtype int64 and shape [25000]\n",
      "\t [[{{node Placeholder/_1}}]]\n"
     ]
    },
    {
     "name": "stdout",
     "output_type": "stream",
     "text": [
      "logs:  {'loss': 0.29065757989883423, 'accuracy': 0.9799200296401978, 'val_loss': 0.6951375007629395, 'val_accuracy': 0.8626984357833862} \n",
      "current_val_loss:  0.6951375007629395 \n",
      "save_best_only:  True \n",
      "best_val_loss:  inf \n",
      "current_val_loss < best_val_loss:  True \n",
      "Saving weights at (save_best_only=True):  checkpoint/save-model/ \n",
      "Model has been saved!\n",
      "wait:  0 \n",
      "Current lr: 0.001 \n",
      "250/250 [==============================] - 39s 151ms/step - loss: 0.2907 - accuracy: 0.9799 - val_loss: 0.6951 - val_accuracy: 0.8627\n",
      "Epoch 2/100\n",
      "logs:  {'loss': 0.029580658301711082, 'accuracy': 0.9983999729156494, 'val_loss': 0.7396005988121033, 'val_accuracy': 0.8666666746139526} \n",
      "current_val_loss:  0.7396005988121033 \n",
      "save_best_only:  True \n",
      "best_val_loss:  0.6951375007629395 \n",
      "current_val_loss < best_val_loss:  False \n",
      "Saving weights at (save_best_only=False):  checkpoint/save-model/ \n",
      "Model has been saved!\n",
      "wait:  0 \n",
      "Current lr: 0.001 \n",
      "self.wait >= self.patience: False \n",
      "250/250 [==============================] - 10s 38ms/step - loss: 0.0296 - accuracy: 0.9984 - val_loss: 0.7396 - val_accuracy: 0.8667\n",
      "Epoch 3/100\n",
      "logs:  {'loss': 0.01404546108096838, 'accuracy': 1.0, 'val_loss': 0.7325687408447266, 'val_accuracy': 0.8644444346427917} \n",
      "current_val_loss:  0.7325687408447266 \n",
      "save_best_only:  True \n",
      "best_val_loss:  0.6951375007629395 \n",
      "current_val_loss < best_val_loss:  False \n",
      "Saving weights at (save_best_only=False):  checkpoint/save-model/ \n",
      "Model has been saved!\n",
      "wait:  1 \n",
      "Current lr: 0.001 \n",
      "self.wait >= self.patience: False \n",
      "250/250 [==============================] - 9s 37ms/step - loss: 0.0140 - accuracy: 1.0000 - val_loss: 0.7326 - val_accuracy: 0.8644\n",
      "Epoch 4/100\n",
      "logs:  {'loss': 0.008552654646337032, 'accuracy': 1.0, 'val_loss': 0.7455340027809143, 'val_accuracy': 0.8642857074737549} \n",
      "current_val_loss:  0.7455340027809143 \n",
      "save_best_only:  True \n",
      "best_val_loss:  0.6951375007629395 \n",
      "current_val_loss < best_val_loss:  False \n",
      "Saving weights at (save_best_only=False):  checkpoint/save-model/ \n",
      "Model has been saved!\n",
      "wait:  2 \n",
      "Current lr: 0.001 \n",
      "self.wait >= self.patience: False \n",
      "250/250 [==============================] - 9s 38ms/step - loss: 0.0086 - accuracy: 1.0000 - val_loss: 0.7455 - val_accuracy: 0.8643\n",
      "Epoch 5/100\n",
      "logs:  {'loss': 0.005591029766947031, 'accuracy': 1.0, 'val_loss': 0.8047055006027222, 'val_accuracy': 0.8633333444595337} \n",
      "current_val_loss:  0.8047055006027222 \n",
      "save_best_only:  True \n",
      "best_val_loss:  0.6951375007629395 \n",
      "current_val_loss < best_val_loss:  False \n",
      "Saving weights at (save_best_only=False):  checkpoint/save-model/ \n",
      "Model has been saved!\n",
      "wait:  3 \n",
      "Current lr: 0.001 \n",
      "self.wait >= self.patience: False \n",
      "250/250 [==============================] - 9s 38ms/step - loss: 0.0056 - accuracy: 1.0000 - val_loss: 0.8047 - val_accuracy: 0.8633\n",
      "Epoch 6/100\n",
      "logs:  {'loss': 0.003835586830973625, 'accuracy': 1.0, 'val_loss': 0.8472718000411987, 'val_accuracy': 0.8625397086143494} \n",
      "current_val_loss:  0.8472718000411987 \n",
      "save_best_only:  True \n",
      "best_val_loss:  0.6951375007629395 \n",
      "current_val_loss < best_val_loss:  False \n",
      "Saving weights at (save_best_only=False):  checkpoint/save-model/ \n",
      "Model has been saved!\n",
      "wait:  4 \n",
      "Current lr: 0.001 \n",
      "self.wait >= self.patience: True \n",
      "new_lr >= self.min_lr: True \n",
      "Epoch 6: Learning rate reduced to 0.00010000000474974513 \n",
      "250/250 [==============================] - 9s 37ms/step - loss: 0.0038 - accuracy: 1.0000 - val_loss: 0.8473 - val_accuracy: 0.8625\n",
      "Epoch 7/100\n",
      "logs:  {'loss': 0.0031409363728016615, 'accuracy': 1.0, 'val_loss': 0.8049445152282715, 'val_accuracy': 0.8638095259666443} \n",
      "current_val_loss:  0.8049445152282715 \n",
      "save_best_only:  True \n",
      "best_val_loss:  0.6951375007629395 \n",
      "current_val_loss < best_val_loss:  False \n",
      "Saving weights at (save_best_only=False):  checkpoint/save-model/ \n",
      "Model has been saved!\n",
      "wait:  0 \n",
      "Current lr: 0.000100000005 \n",
      "self.wait >= self.patience: False \n",
      "250/250 [==============================] - 10s 39ms/step - loss: 0.0031 - accuracy: 1.0000 - val_loss: 0.8049 - val_accuracy: 0.8638\n"
     ]
    }
   ],
   "source": [
    "history = model.fit(train, epochs=100, validation_data=test, validation_steps=len(test) * 0.25, callbacks=[save_callbacks, es_callback, lr_callback])"
   ]
  },
  {
   "cell_type": "markdown",
   "id": "aa0ef45c",
   "metadata": {},
   "source": [
    "## <font color='red'>The early stopping mechanism has proven to be effective in halting the training process before reaching the maximum number of epochs. It automatically stops training if there are no improvements in validation loss for four consecutive epochs, as configured. Now, let's proceed to evaluate our trained model using the testing data.</font>"
   ]
  },
  {
   "cell_type": "code",
   "execution_count": 216,
   "id": "68767353",
   "metadata": {},
   "outputs": [
    {
     "data": {
      "text/plain": [
       "<Axes: >"
      ]
     },
     "execution_count": 216,
     "metadata": {},
     "output_type": "execute_result"
    },
    {
     "data": {
      "image/png": "[encoded data removed]",
      "text/plain": [
       "<Figure size 640x480 with 1 Axes>"
      ]
     },
     "metadata": {},
     "output_type": "display_data"
    }
   ],
   "source": [
    "pd.DataFrame(history.history).plot()"
   ]
  },
  {
   "cell_type": "code",
   "execution_count": 217,
   "id": "b10cc649",
   "metadata": {},
   "outputs": [],
   "source": [
    "load_model = create_model()"
   ]
  },
  {
   "cell_type": "code",
   "execution_count": 218,
   "id": "1a7045f5",
   "metadata": {},
   "outputs": [
    {
     "data": {
      "text/plain": [
       "<tensorflow.python.checkpoint.checkpoint.CheckpointLoadStatus at 0x7fbd0881b130>"
      ]
     },
     "execution_count": 218,
     "metadata": {},
     "output_type": "execute_result"
    }
   ],
   "source": [
    "load_model.load_weights(\"checkpoint/save-model/\")"
   ]
  },
  {
   "cell_type": "code",
   "execution_count": 219,
   "id": "69d41540",
   "metadata": {
    "scrolled": false
   },
   "outputs": [
    {
     "name": "stdout",
     "output_type": "stream",
     "text": [
      "250/250 [==============================] - 4s 13ms/step - loss: 0.7979 - accuracy: 0.8643\n",
      "Testing accuracy:  0.8642799854278564\n"
     ]
    }
   ],
   "source": [
    "performance = load_model.evaluate(test)\n",
    "print(\"Testing accuracy: \", performance[1])"
   ]
  },
  {
   "cell_type": "code",
   "execution_count": null,
   "id": "96fa9430",
   "metadata": {},
   "outputs": [],
   "source": []
  },
  {
   "cell_type": "code",
   "execution_count": 227,
   "id": "b037c602",
   "metadata": {},
   "outputs": [],
   "source": [
    "def conf_matrix(y_test=None, y_pred=None, class_names=None):\n",
    "    \n",
    "    cm = confusion_matrix(y_test, y_pred)\n",
    "    \n",
    "    fig, ax = plt.subplots(figsize=(5, 5))\n",
    "    a = ax.matshow(cm, cmap=plt.cm.Greens)  \n",
    "    \n",
    "    fig.colorbar(a)  \n",
    "    \n",
    "    ax.set(title=\"Confusion Matrix\",\n",
    "             xlabel=\"Predicted label\",\n",
    "             ylabel=\"Actual label\",\n",
    "             xticks=np.arange(len(class_names)), \n",
    "             yticks=np.arange(len(class_names)), \n",
    "             xticklabels=class_names,  \n",
    "             yticklabels=class_names)\n",
    "    \n",
    "    ax.xaxis.set_label_position(\"bottom\")\n",
    "    ax.xaxis.tick_bottom()\n",
    "    \n",
    "    plt.xticks(rotation=60, fontsize=12)\n",
    "    plt.yticks(fontsize=12)\n",
    "\n",
    "    for i, j in itertools.product(range(cm.shape[0]), range(cm.shape[1])):\n",
    "        plt.text(j, i, f\"{cm[i, j]}\",\n",
    "                  horizontalalignment=\"center\", color=\"black\" if cm[i, j] < (cm.max() + cm.min()) / 2 else \"white\",\n",
    "                  fontsize=12)"
   ]
  },
  {
   "cell_type": "code",
   "execution_count": 221,
   "id": "7e0d58a1",
   "metadata": {},
   "outputs": [],
   "source": [
    "y_pred = []\n",
    "y_truth = []"
   ]
  },
  {
   "cell_type": "code",
   "execution_count": 224,
   "id": "08dabe9d",
   "metadata": {},
   "outputs": [],
   "source": [
    "for x, y in test:\n",
    "    y_pred.extend(np.round(np.squeeze(load_model.predict([x], verbose=0))))\n",
    "    y_truth.extend(y.numpy())"
   ]
  },
  {
   "cell_type": "code",
   "execution_count": 228,
   "id": "0c651888",
   "metadata": {},
   "outputs": [
    {
     "data": {
      "image/png": "[encoded data removed]",
      "text/plain": [
       "<Figure size 500x500 with 2 Axes>"
      ]
     },
     "metadata": {},
     "output_type": "display_data"
    }
   ],
   "source": [
    "conf_matrix(y_test=y_truth, y_pred=y_pred, class_names=['NEGATIVE', 'POSITIVE'])\n"
   ]
  }
 ],
 "metadata": {
  "kernelspec": {
   "display_name": "Python 3 (ipykernel)",
   "language": "python",
   "name": "python3"
  },
  "language_info": {
   "codemirror_mode": {
    "name": "ipython",
    "version": 3
   },
   "file_extension": ".py",
   "mimetype": "text/x-python",
   "name": "python",
   "nbconvert_exporter": "python",
   "pygments_lexer": "ipython3",
   "version": "3.8.10"
  }
 },
 "nbformat": 4,
 "nbformat_minor": 5
}
